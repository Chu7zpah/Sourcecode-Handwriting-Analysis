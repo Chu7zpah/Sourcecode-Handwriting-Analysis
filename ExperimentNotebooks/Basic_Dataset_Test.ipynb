{
  "nbformat": 4,
  "nbformat_minor": 0,
  "metadata": {
    "colab": {
      "name": "Basic_Dataset_Test.ipynb",
      "provenance": [],
      "collapsed_sections": []
    },
    "kernelspec": {
      "name": "python3",
      "display_name": "Python 3"
    }
  },
  "cells": [
    {
      "cell_type": "code",
      "metadata": {
        "colab": {
          "base_uri": "https://localhost:8080/"
        },
        "id": "uL861rm3V-BC",
        "outputId": "8f50ab9b-2cc7-43d7-8543-27680a33487e"
      },
      "source": [
        "import pandas as pd\n",
        "\n",
        "df = pd.read_csv(\"https://raw.githubusercontent.com/Chu7zpah/Sourcecode-Handwriting-Analysis/master/CSVResult/Final_ABCDEFGH.csv\")\n",
        "print(df)"
      ],
      "execution_count": 1,
      "outputs": [
        {
          "output_type": "stream",
          "text": [
            "      inline_NO_brace  inline_YES_brace  ...  YES_binary_YES  Programmer\n",
            "0                   0                 0  ...              27           A\n",
            "1                   1                 0  ...               6           A\n",
            "2                   1                 0  ...               6           A\n",
            "3                   0                 0  ...              12           A\n",
            "4                   0                 0  ...               0           A\n",
            "...               ...               ...  ...             ...         ...\n",
            "1244                0                 0  ...              54           H\n",
            "1245                0                 0  ...              38           H\n",
            "1246                0                 9  ...              29           H\n",
            "1247                0                 0  ...               5           H\n",
            "1248                0                 0  ...              31           H\n",
            "\n",
            "[1249 rows x 15 columns]\n"
          ],
          "name": "stdout"
        }
      ]
    },
    {
      "cell_type": "code",
      "metadata": {
        "colab": {
          "base_uri": "https://localhost:8080/",
          "height": 222
        },
        "id": "_e303kkLjFDR",
        "outputId": "e032395b-3675-4171-b65b-5193df04fbf6"
      },
      "source": [
        "df.head()"
      ],
      "execution_count": 2,
      "outputs": [
        {
          "output_type": "execute_result",
          "data": {
            "text/html": [
              "<div>\n",
              "<style scoped>\n",
              "    .dataframe tbody tr th:only-of-type {\n",
              "        vertical-align: middle;\n",
              "    }\n",
              "\n",
              "    .dataframe tbody tr th {\n",
              "        vertical-align: top;\n",
              "    }\n",
              "\n",
              "    .dataframe thead th {\n",
              "        text-align: right;\n",
              "    }\n",
              "</style>\n",
              "<table border=\"1\" class=\"dataframe\">\n",
              "  <thead>\n",
              "    <tr style=\"text-align: right;\">\n",
              "      <th></th>\n",
              "      <th>inline_NO_brace</th>\n",
              "      <th>inline_YES_brace</th>\n",
              "      <th>nextline_brace</th>\n",
              "      <th>double_backslash_NO_Space</th>\n",
              "      <th>double_backslash_YES_Space</th>\n",
              "      <th>single_backslash_asterisk</th>\n",
              "      <th>NO_parenthesis</th>\n",
              "      <th>YES_parenthesis</th>\n",
              "      <th>unary_NO_space</th>\n",
              "      <th>unary_YES_space</th>\n",
              "      <th>NO_binary_NO</th>\n",
              "      <th>NO_binary_YES</th>\n",
              "      <th>YES_binary_NO</th>\n",
              "      <th>YES_binary_YES</th>\n",
              "      <th>Programmer</th>\n",
              "    </tr>\n",
              "  </thead>\n",
              "  <tbody>\n",
              "    <tr>\n",
              "      <th>0</th>\n",
              "      <td>0</td>\n",
              "      <td>0</td>\n",
              "      <td>9</td>\n",
              "      <td>0</td>\n",
              "      <td>0</td>\n",
              "      <td>8</td>\n",
              "      <td>0</td>\n",
              "      <td>12</td>\n",
              "      <td>0</td>\n",
              "      <td>0</td>\n",
              "      <td>0</td>\n",
              "      <td>4</td>\n",
              "      <td>7</td>\n",
              "      <td>27</td>\n",
              "      <td>A</td>\n",
              "    </tr>\n",
              "    <tr>\n",
              "      <th>1</th>\n",
              "      <td>1</td>\n",
              "      <td>0</td>\n",
              "      <td>0</td>\n",
              "      <td>0</td>\n",
              "      <td>0</td>\n",
              "      <td>0</td>\n",
              "      <td>3</td>\n",
              "      <td>0</td>\n",
              "      <td>0</td>\n",
              "      <td>0</td>\n",
              "      <td>18</td>\n",
              "      <td>5</td>\n",
              "      <td>2</td>\n",
              "      <td>6</td>\n",
              "      <td>A</td>\n",
              "    </tr>\n",
              "    <tr>\n",
              "      <th>2</th>\n",
              "      <td>1</td>\n",
              "      <td>0</td>\n",
              "      <td>0</td>\n",
              "      <td>0</td>\n",
              "      <td>0</td>\n",
              "      <td>0</td>\n",
              "      <td>3</td>\n",
              "      <td>0</td>\n",
              "      <td>0</td>\n",
              "      <td>0</td>\n",
              "      <td>21</td>\n",
              "      <td>4</td>\n",
              "      <td>1</td>\n",
              "      <td>6</td>\n",
              "      <td>A</td>\n",
              "    </tr>\n",
              "    <tr>\n",
              "      <th>3</th>\n",
              "      <td>0</td>\n",
              "      <td>0</td>\n",
              "      <td>1</td>\n",
              "      <td>0</td>\n",
              "      <td>0</td>\n",
              "      <td>1</td>\n",
              "      <td>0</td>\n",
              "      <td>2</td>\n",
              "      <td>0</td>\n",
              "      <td>0</td>\n",
              "      <td>1</td>\n",
              "      <td>5</td>\n",
              "      <td>3</td>\n",
              "      <td>12</td>\n",
              "      <td>A</td>\n",
              "    </tr>\n",
              "    <tr>\n",
              "      <th>4</th>\n",
              "      <td>0</td>\n",
              "      <td>0</td>\n",
              "      <td>2</td>\n",
              "      <td>0</td>\n",
              "      <td>0</td>\n",
              "      <td>3</td>\n",
              "      <td>0</td>\n",
              "      <td>1</td>\n",
              "      <td>0</td>\n",
              "      <td>0</td>\n",
              "      <td>0</td>\n",
              "      <td>0</td>\n",
              "      <td>2</td>\n",
              "      <td>0</td>\n",
              "      <td>A</td>\n",
              "    </tr>\n",
              "  </tbody>\n",
              "</table>\n",
              "</div>"
            ],
            "text/plain": [
              "   inline_NO_brace  inline_YES_brace  ...  YES_binary_YES  Programmer\n",
              "0                0                 0  ...              27           A\n",
              "1                1                 0  ...               6           A\n",
              "2                1                 0  ...               6           A\n",
              "3                0                 0  ...              12           A\n",
              "4                0                 0  ...               0           A\n",
              "\n",
              "[5 rows x 15 columns]"
            ]
          },
          "metadata": {
            "tags": []
          },
          "execution_count": 2
        }
      ]
    },
    {
      "cell_type": "code",
      "metadata": {
        "colab": {
          "base_uri": "https://localhost:8080/"
        },
        "id": "3mxulDN8jHyp",
        "outputId": "b961ffd1-2e3f-4666-9f3c-67cc65938f12"
      },
      "source": [
        "df.dtypes"
      ],
      "execution_count": 3,
      "outputs": [
        {
          "output_type": "execute_result",
          "data": {
            "text/plain": [
              "inline_NO_brace                int64\n",
              "inline_YES_brace               int64\n",
              "nextline_brace                 int64\n",
              "double_backslash_NO_Space      int64\n",
              "double_backslash_YES_Space     int64\n",
              "single_backslash_asterisk      int64\n",
              "NO_parenthesis                 int64\n",
              "YES_parenthesis                int64\n",
              "unary_NO_space                 int64\n",
              "unary_YES_space                int64\n",
              "NO_binary_NO                   int64\n",
              "NO_binary_YES                  int64\n",
              "YES_binary_NO                  int64\n",
              "YES_binary_YES                 int64\n",
              "Programmer                    object\n",
              "dtype: object"
            ]
          },
          "metadata": {
            "tags": []
          },
          "execution_count": 3
        }
      ]
    },
    {
      "cell_type": "code",
      "metadata": {
        "colab": {
          "base_uri": "https://localhost:8080/",
          "height": 314
        },
        "id": "8d_L8L0OXpR1",
        "outputId": "7d7a8726-29eb-4117-cdca-aa8356bcc353"
      },
      "source": [
        "df.describe()"
      ],
      "execution_count": 4,
      "outputs": [
        {
          "output_type": "execute_result",
          "data": {
            "text/html": [
              "<div>\n",
              "<style scoped>\n",
              "    .dataframe tbody tr th:only-of-type {\n",
              "        vertical-align: middle;\n",
              "    }\n",
              "\n",
              "    .dataframe tbody tr th {\n",
              "        vertical-align: top;\n",
              "    }\n",
              "\n",
              "    .dataframe thead th {\n",
              "        text-align: right;\n",
              "    }\n",
              "</style>\n",
              "<table border=\"1\" class=\"dataframe\">\n",
              "  <thead>\n",
              "    <tr style=\"text-align: right;\">\n",
              "      <th></th>\n",
              "      <th>inline_NO_brace</th>\n",
              "      <th>inline_YES_brace</th>\n",
              "      <th>nextline_brace</th>\n",
              "      <th>double_backslash_NO_Space</th>\n",
              "      <th>double_backslash_YES_Space</th>\n",
              "      <th>single_backslash_asterisk</th>\n",
              "      <th>NO_parenthesis</th>\n",
              "      <th>YES_parenthesis</th>\n",
              "      <th>unary_NO_space</th>\n",
              "      <th>unary_YES_space</th>\n",
              "      <th>NO_binary_NO</th>\n",
              "      <th>NO_binary_YES</th>\n",
              "      <th>YES_binary_NO</th>\n",
              "      <th>YES_binary_YES</th>\n",
              "    </tr>\n",
              "  </thead>\n",
              "  <tbody>\n",
              "    <tr>\n",
              "      <th>count</th>\n",
              "      <td>1249.000000</td>\n",
              "      <td>1249.000000</td>\n",
              "      <td>1249.000000</td>\n",
              "      <td>1249.000000</td>\n",
              "      <td>1249.000000</td>\n",
              "      <td>1249.000000</td>\n",
              "      <td>1249.000000</td>\n",
              "      <td>1249.000000</td>\n",
              "      <td>1249.000000</td>\n",
              "      <td>1249.000000</td>\n",
              "      <td>1249.000000</td>\n",
              "      <td>1249.000000</td>\n",
              "      <td>1249.000000</td>\n",
              "      <td>1249.000000</td>\n",
              "    </tr>\n",
              "    <tr>\n",
              "      <th>mean</th>\n",
              "      <td>1.237790</td>\n",
              "      <td>28.436349</td>\n",
              "      <td>44.024019</td>\n",
              "      <td>1.671737</td>\n",
              "      <td>37.512410</td>\n",
              "      <td>26.241793</td>\n",
              "      <td>2.059247</td>\n",
              "      <td>63.628503</td>\n",
              "      <td>3.989592</td>\n",
              "      <td>0.501201</td>\n",
              "      <td>6.931946</td>\n",
              "      <td>89.184948</td>\n",
              "      <td>33.589271</td>\n",
              "      <td>205.014412</td>\n",
              "    </tr>\n",
              "    <tr>\n",
              "      <th>std</th>\n",
              "      <td>29.049311</td>\n",
              "      <td>158.722300</td>\n",
              "      <td>134.890742</td>\n",
              "      <td>4.322850</td>\n",
              "      <td>112.793357</td>\n",
              "      <td>84.669753</td>\n",
              "      <td>11.409679</td>\n",
              "      <td>159.202121</td>\n",
              "      <td>22.484055</td>\n",
              "      <td>3.098057</td>\n",
              "      <td>37.227527</td>\n",
              "      <td>468.027630</td>\n",
              "      <td>69.524958</td>\n",
              "      <td>1081.229764</td>\n",
              "    </tr>\n",
              "    <tr>\n",
              "      <th>min</th>\n",
              "      <td>0.000000</td>\n",
              "      <td>0.000000</td>\n",
              "      <td>0.000000</td>\n",
              "      <td>0.000000</td>\n",
              "      <td>0.000000</td>\n",
              "      <td>0.000000</td>\n",
              "      <td>0.000000</td>\n",
              "      <td>0.000000</td>\n",
              "      <td>0.000000</td>\n",
              "      <td>0.000000</td>\n",
              "      <td>0.000000</td>\n",
              "      <td>0.000000</td>\n",
              "      <td>0.000000</td>\n",
              "      <td>0.000000</td>\n",
              "    </tr>\n",
              "    <tr>\n",
              "      <th>25%</th>\n",
              "      <td>0.000000</td>\n",
              "      <td>1.000000</td>\n",
              "      <td>0.000000</td>\n",
              "      <td>0.000000</td>\n",
              "      <td>0.000000</td>\n",
              "      <td>1.000000</td>\n",
              "      <td>0.000000</td>\n",
              "      <td>2.000000</td>\n",
              "      <td>0.000000</td>\n",
              "      <td>0.000000</td>\n",
              "      <td>0.000000</td>\n",
              "      <td>10.000000</td>\n",
              "      <td>3.000000</td>\n",
              "      <td>13.000000</td>\n",
              "    </tr>\n",
              "    <tr>\n",
              "      <th>50%</th>\n",
              "      <td>0.000000</td>\n",
              "      <td>5.000000</td>\n",
              "      <td>4.000000</td>\n",
              "      <td>0.000000</td>\n",
              "      <td>1.000000</td>\n",
              "      <td>5.000000</td>\n",
              "      <td>0.000000</td>\n",
              "      <td>10.000000</td>\n",
              "      <td>0.000000</td>\n",
              "      <td>0.000000</td>\n",
              "      <td>1.000000</td>\n",
              "      <td>25.000000</td>\n",
              "      <td>9.000000</td>\n",
              "      <td>43.000000</td>\n",
              "    </tr>\n",
              "    <tr>\n",
              "      <th>75%</th>\n",
              "      <td>0.000000</td>\n",
              "      <td>20.000000</td>\n",
              "      <td>18.000000</td>\n",
              "      <td>1.000000</td>\n",
              "      <td>16.000000</td>\n",
              "      <td>20.000000</td>\n",
              "      <td>0.000000</td>\n",
              "      <td>43.000000</td>\n",
              "      <td>1.000000</td>\n",
              "      <td>0.000000</td>\n",
              "      <td>5.000000</td>\n",
              "      <td>73.000000</td>\n",
              "      <td>29.000000</td>\n",
              "      <td>133.000000</td>\n",
              "    </tr>\n",
              "    <tr>\n",
              "      <th>max</th>\n",
              "      <td>1024.000000</td>\n",
              "      <td>5172.000000</td>\n",
              "      <td>1818.000000</td>\n",
              "      <td>67.000000</td>\n",
              "      <td>964.000000</td>\n",
              "      <td>2030.000000</td>\n",
              "      <td>210.000000</td>\n",
              "      <td>2804.000000</td>\n",
              "      <td>667.000000</td>\n",
              "      <td>67.000000</td>\n",
              "      <td>1024.000000</td>\n",
              "      <td>15722.000000</td>\n",
              "      <td>781.000000</td>\n",
              "      <td>36059.000000</td>\n",
              "    </tr>\n",
              "  </tbody>\n",
              "</table>\n",
              "</div>"
            ],
            "text/plain": [
              "       inline_NO_brace  inline_YES_brace  ...  YES_binary_NO  YES_binary_YES\n",
              "count      1249.000000       1249.000000  ...    1249.000000     1249.000000\n",
              "mean          1.237790         28.436349  ...      33.589271      205.014412\n",
              "std          29.049311        158.722300  ...      69.524958     1081.229764\n",
              "min           0.000000          0.000000  ...       0.000000        0.000000\n",
              "25%           0.000000          1.000000  ...       3.000000       13.000000\n",
              "50%           0.000000          5.000000  ...       9.000000       43.000000\n",
              "75%           0.000000         20.000000  ...      29.000000      133.000000\n",
              "max        1024.000000       5172.000000  ...     781.000000    36059.000000\n",
              "\n",
              "[8 rows x 14 columns]"
            ]
          },
          "metadata": {
            "tags": []
          },
          "execution_count": 4
        }
      ]
    },
    {
      "cell_type": "code",
      "metadata": {
        "id": "bHadkEoJXr5T"
      },
      "source": [
        "# Separate Feature & Label\n",
        "data = df.drop(columns=['Programmer'])\n",
        "label = df['Programmer']"
      ],
      "execution_count": 5,
      "outputs": []
    },
    {
      "cell_type": "code",
      "metadata": {
        "id": "4f2-2jaDX39E"
      },
      "source": [
        "# Construct Train & Test Set\n",
        "from sklearn.model_selection import train_test_split\n",
        "\n",
        "X_train, X_test, y_train, y_test = train_test_split(data, label, test_size= 0.2)"
      ],
      "execution_count": 6,
      "outputs": []
    },
    {
      "cell_type": "code",
      "metadata": {
        "colab": {
          "base_uri": "https://localhost:8080/"
        },
        "id": "rkcSi3J-xX6U",
        "outputId": "c574960a-54cb-48e7-b49a-3e129920ba7a"
      },
      "source": [
        "# Model 1. Logistic Regression\n",
        "from sklearn.linear_model import LogisticRegression\n",
        "\n",
        "lr_ovr = LogisticRegression(multi_class='ovr', max_iter=1000)\n",
        "lr_ovr.fit(X_train, y_train)\n",
        "print(lr_ovr.score(X_train, y_train))\n",
        "print(lr_ovr.score(X_test, y_test))\n",
        "\n",
        "lr_multinomial = LogisticRegression(multi_class='multinomial', max_iter=1000)\n",
        "lr_multinomial.fit(X_train, y_train)\n",
        "print(lr_multinomial.score(X_train, y_train))\n",
        "print(lr_multinomial.score(X_test, y_test))\n"
      ],
      "execution_count": 7,
      "outputs": [
        {
          "output_type": "stream",
          "text": [
            "0.7297297297297297\n",
            "0.66\n",
            "0.7627627627627628\n",
            "0.696\n"
          ],
          "name": "stdout"
        },
        {
          "output_type": "stream",
          "text": [
            "/usr/local/lib/python3.6/dist-packages/sklearn/linear_model/_logistic.py:940: ConvergenceWarning: lbfgs failed to converge (status=1):\n",
            "STOP: TOTAL NO. of ITERATIONS REACHED LIMIT.\n",
            "\n",
            "Increase the number of iterations (max_iter) or scale the data as shown in:\n",
            "    https://scikit-learn.org/stable/modules/preprocessing.html\n",
            "Please also refer to the documentation for alternative solver options:\n",
            "    https://scikit-learn.org/stable/modules/linear_model.html#logistic-regression\n",
            "  extra_warning_msg=_LOGISTIC_SOLVER_CONVERGENCE_MSG)\n"
          ],
          "name": "stderr"
        }
      ]
    },
    {
      "cell_type": "code",
      "metadata": {
        "colab": {
          "base_uri": "https://localhost:8080/"
        },
        "id": "ZfA3TiaSYOwk",
        "outputId": "b076ee07-077c-436d-eaa4-a8aa0efd0f73"
      },
      "source": [
        "# Model 2. Perceptron\n",
        "from sklearn.linear_model import Perceptron\n",
        "\n",
        "ppn = Perceptron(max_iter=1000)\n",
        "ppn.fit(X_train, y_train)\n",
        "\n",
        "print(\"[Perceptron Training Scroe]\")\n",
        "print(ppn.score(X_train, y_train))\n",
        "\n",
        "print(\"[Perceptron Test Scroe]\")\n",
        "print(ppn.score(X_test, y_test))"
      ],
      "execution_count": 8,
      "outputs": [
        {
          "output_type": "stream",
          "text": [
            "[Perceptron Training Scroe]\n",
            "0.4594594594594595\n",
            "[Perceptron Test Scroe]\n",
            "0.412\n"
          ],
          "name": "stdout"
        }
      ]
    },
    {
      "cell_type": "code",
      "metadata": {
        "colab": {
          "base_uri": "https://localhost:8080/"
        },
        "id": "1fYFuUQXY-k0",
        "outputId": "77cd5dee-47c6-4735-b980-9585c26513c4"
      },
      "source": [
        "# Model 3. Decision Tree\n",
        "from sklearn import tree\n",
        "tr = tree.DecisionTreeClassifier()\n",
        "tr.fit(X_train, y_train)\n",
        "\n",
        "print(\"[Decision Tree Training Scroe]\")\n",
        "print(tr.score(X_train, y_train))\n",
        "\n",
        "print(\"[Decision Tree Testing Score]\")\n",
        "print(tr.score(X_test, y_test))"
      ],
      "execution_count": 9,
      "outputs": [
        {
          "output_type": "stream",
          "text": [
            "[Decision Tree Training Scroe]\n",
            "1.0\n",
            "[Decision Tree Testing Score]\n",
            "0.736\n"
          ],
          "name": "stdout"
        }
      ]
    },
    {
      "cell_type": "code",
      "metadata": {
        "colab": {
          "base_uri": "https://localhost:8080/"
        },
        "id": "LFSFiTwPZJs0",
        "outputId": "fb9bf98e-5a97-4588-9f0d-d9453610436d"
      },
      "source": [
        "# Model 4. KNN\n",
        "from sklearn.neighbors import KNeighborsClassifier\n",
        "knn = KNeighborsClassifier()\n",
        "knn.fit(X_train, y_train)\n",
        "\n",
        "print(\"[KNN Training Scroe]\")\n",
        "print(knn.score(X_train, y_train))\n",
        "\n",
        "print(\"[KNN Testing Score]\")\n",
        "print(knn.score(X_test, y_test))"
      ],
      "execution_count": 10,
      "outputs": [
        {
          "output_type": "stream",
          "text": [
            "[KNN Training Scroe]\n",
            "0.7877877877877878\n",
            "[KNN Testing Score]\n",
            "0.668\n"
          ],
          "name": "stdout"
        }
      ]
    },
    {
      "cell_type": "code",
      "metadata": {
        "colab": {
          "base_uri": "https://localhost:8080/"
        },
        "id": "tM9YlQXtjqPQ",
        "outputId": "1dd80e49-77b7-4792-9d84-39ef16a5d1fe"
      },
      "source": [
        "# Model 5-1. Gaussian Naive Bayesian\n",
        "from sklearn.naive_bayes import GaussianNB\n",
        "\n",
        "gnb = GaussianNB()\n",
        "gnb.fit(X_train, y_train)\n",
        "\n",
        "print(\"[GNB Training Scroe]\")\n",
        "print(gnb.score(X_train, y_train))\n",
        "\n",
        "print(\"[GNB Testing Score]\")\n",
        "print(gnb.score(X_test, y_test))"
      ],
      "execution_count": 11,
      "outputs": [
        {
          "output_type": "stream",
          "text": [
            "[GNB Training Scroe]\n",
            "0.5465465465465466\n",
            "[GNB Testing Score]\n",
            "0.492\n"
          ],
          "name": "stdout"
        }
      ]
    },
    {
      "cell_type": "code",
      "metadata": {
        "colab": {
          "base_uri": "https://localhost:8080/"
        },
        "id": "pOo9gXMskUrq",
        "outputId": "08622bc1-d773-4897-95d4-d3c904f7568f"
      },
      "source": [
        "# Model 5-2. Multinominal Naive Bayesian\n",
        "from sklearn.naive_bayes import MultinomialNB\n",
        "\n",
        "mnb = MultinomialNB()\n",
        "mnb.fit(X_train, y_train)\n",
        "\n",
        "print(\"[MNB Training Scroe]\")\n",
        "print(mnb.score(X_train, y_train))\n",
        "\n",
        "print(\"[MNB Testing Score]\")\n",
        "print(mnb.score(X_test, y_test))"
      ],
      "execution_count": 12,
      "outputs": [
        {
          "output_type": "stream",
          "text": [
            "[MNB Training Scroe]\n",
            "0.5945945945945946\n",
            "[MNB Testing Score]\n",
            "0.592\n"
          ],
          "name": "stdout"
        }
      ]
    },
    {
      "cell_type": "code",
      "metadata": {
        "colab": {
          "base_uri": "https://localhost:8080/"
        },
        "id": "d-V6Odnd9JYg",
        "outputId": "a70ce241-9d21-4500-ef3a-5c049337cf35"
      },
      "source": [
        "# Model 5-3. Bernoulli Naive Bayesian\n",
        "from sklearn.naive_bayes import BernoulliNB\n",
        "\n",
        "bnb = BernoulliNB()\n",
        "bnb.fit(X_train, y_train)\n",
        "\n",
        "print(\"[BNB Training Scroe]\")\n",
        "print(bnb.score(X_train, y_train))\n",
        "\n",
        "print(\"[BNB Testing Score]\")\n",
        "print(bnb.score(X_test, y_test))"
      ],
      "execution_count": 13,
      "outputs": [
        {
          "output_type": "stream",
          "text": [
            "[BNB Training Scroe]\n",
            "0.7057057057057057\n",
            "[BNB Testing Score]\n",
            "0.668\n"
          ],
          "name": "stdout"
        }
      ]
    },
    {
      "cell_type": "code",
      "metadata": {
        "colab": {
          "base_uri": "https://localhost:8080/"
        },
        "id": "mz0zoeeTkztV",
        "outputId": "5aeaa2da-923e-41f4-e880-6565fca5d890"
      },
      "source": [
        "# Model 6. Random Forest Classifier\n",
        "from sklearn.ensemble import RandomForestClassifier\n",
        "\n",
        "rfc = RandomForestClassifier()\n",
        "rfc.fit(X_train, y_train)\n",
        "\n",
        "print(\"[RFC Training Scroe]\")\n",
        "print(rfc.score(X_train, y_train))\n",
        "\n",
        "print(\"[RFC Testing Score]\")\n",
        "print(rfc.score(X_test, y_test))"
      ],
      "execution_count": 14,
      "outputs": [
        {
          "output_type": "stream",
          "text": [
            "[RFC Training Scroe]\n",
            "1.0\n",
            "[RFC Testing Score]\n",
            "0.82\n"
          ],
          "name": "stdout"
        }
      ]
    },
    {
      "cell_type": "code",
      "metadata": {
        "colab": {
          "base_uri": "https://localhost:8080/"
        },
        "id": "X2Y1nJzX7BzY",
        "outputId": "03de8f55-5071-4a14-d2b1-de606332f945"
      },
      "source": [
        "# Model 7. Extension of Binary Classifier - OneVsOne, OneVsRest(=OneVsAll)\n",
        "from sklearn.multiclass import OneVsOneClassifier\n",
        "from sklearn.multiclass import OneVsRestClassifier\n",
        "from sklearn.svm import SVC\n",
        "\n",
        "ovo = OneVsOneClassifier(SVC())\n",
        "ovr = OneVsRestClassifier(SVC())\n",
        "\n",
        "ovo.fit(X_train, y_train)\n",
        "print(ovo.score(X_train, y_train))\n",
        "print(ovo.score(X_test, y_test))\n",
        "\n",
        "ovr.fit(X_train, y_train)\n",
        "print(ovr.score(X_train, y_train))\n",
        "print(ovr.score(X_test, y_test))\n",
        "\n",
        "print(len(ovo.estimators_))\n",
        "print(len(ovr.estimators_))"
      ],
      "execution_count": 15,
      "outputs": [
        {
          "output_type": "stream",
          "text": [
            "0.47147147147147145\n",
            "0.484\n",
            "0.6296296296296297\n",
            "0.62\n",
            "28\n",
            "8\n"
          ],
          "name": "stdout"
        }
      ]
    },
    {
      "cell_type": "code",
      "metadata": {
        "colab": {
          "base_uri": "https://localhost:8080/"
        },
        "id": "xKPeB2LXYgRt",
        "outputId": "32c92aef-12ea-429d-c5a9-685575d4bdb7"
      },
      "source": [
        "# Model 8. MLP (Multi Layer Perceptron)\n",
        "from sklearn.neural_network import MLPClassifier\n",
        "mlp = MLPClassifier(max_iter=1000)\n",
        "mlp.fit(X_train, y_train)\n",
        "\n",
        "print(\"[MLP Training Scroe]\")\n",
        "print(mlp.score(X_train, y_train))\n",
        "\n",
        "print(\"[MLP Test Scroe]\")\n",
        "print(mlp.score(X_test, y_test))"
      ],
      "execution_count": 16,
      "outputs": [
        {
          "output_type": "stream",
          "text": [
            "[MLP Training Scroe]\n",
            "0.9159159159159159\n",
            "[MLP Test Scroe]\n",
            "0.78\n"
          ],
          "name": "stdout"
        }
      ]
    }
  ]
}