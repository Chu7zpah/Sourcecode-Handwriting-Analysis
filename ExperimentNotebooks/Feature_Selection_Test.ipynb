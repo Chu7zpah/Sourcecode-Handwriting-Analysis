{
  "nbformat": 4,
  "nbformat_minor": 0,
  "metadata": {
    "colab": {
      "name": "Feature Selection Test",
      "provenance": [],
      "authorship_tag": "ABX9TyPGjiGAaXh1cialudYS1wkU"
    },
    "kernelspec": {
      "name": "python3",
      "display_name": "Python 3"
    }
  },
  "cells": [
    {
      "cell_type": "code",
      "metadata": {
        "colab": {
          "base_uri": "https://localhost:8080/"
        },
        "id": "zNvlc3Yeerti",
        "outputId": "e831831a-ebf6-413d-fc6b-e1da089ec818"
      },
      "source": [
        "import pandas as pd\n",
        "\n",
        "df = pd.read_csv(\"https://raw.githubusercontent.com/Chu7zpah/Sourcecode-Handwriting-Analysis/master/CSVResult/Final_ABCDEFGH.csv\")\n",
        "print(df)"
      ],
      "execution_count": 1,
      "outputs": [
        {
          "output_type": "stream",
          "text": [
            "      inline_NO_brace  inline_YES_brace  ...  YES_binary_YES  Programmer\n",
            "0                   0                 0  ...              27           A\n",
            "1                   1                 0  ...               6           A\n",
            "2                   1                 0  ...               6           A\n",
            "3                   0                 0  ...              12           A\n",
            "4                   0                 0  ...               0           A\n",
            "...               ...               ...  ...             ...         ...\n",
            "1244                0                 0  ...              54           H\n",
            "1245                0                 0  ...              38           H\n",
            "1246                0                 9  ...              29           H\n",
            "1247                0                 0  ...               5           H\n",
            "1248                0                 0  ...              31           H\n",
            "\n",
            "[1249 rows x 15 columns]\n"
          ],
          "name": "stdout"
        }
      ]
    },
    {
      "cell_type": "code",
      "metadata": {
        "id": "MeeDzYm5gGM1"
      },
      "source": [
        "data = df.drop(columns=['Programmer'])\n",
        "label = df['Programmer']"
      ],
      "execution_count": 2,
      "outputs": []
    },
    {
      "cell_type": "code",
      "metadata": {
        "id": "EpbKcqK0fGQE"
      },
      "source": [
        "from sklearn.model_selection import train_test_split\n",
        "X_train, X_test, y_train, y_test = train_test_split(data, label, test_size= 0.2)"
      ],
      "execution_count": 3,
      "outputs": []
    },
    {
      "cell_type": "code",
      "metadata": {
        "id": "meLl4oGRe8Ix",
        "colab": {
          "base_uri": "https://localhost:8080/"
        },
        "outputId": "ffbabf2b-5094-463a-af88-142e71e7bbbf"
      },
      "source": [
        "from sklearn.neural_network import MLPClassifier\n",
        "mlp = MLPClassifier(max_iter = 5000)\n",
        "mlp.fit(X_train, y_train)\n",
        "mlp.score(X_train, y_train)"
      ],
      "execution_count": 4,
      "outputs": [
        {
          "output_type": "execute_result",
          "data": {
            "text/plain": [
              "0.9129129129129129"
            ]
          },
          "metadata": {
            "tags": []
          },
          "execution_count": 4
        }
      ]
    },
    {
      "cell_type": "code",
      "metadata": {
        "id": "MCIyk1Voe76y",
        "colab": {
          "base_uri": "https://localhost:8080/"
        },
        "outputId": "603c3a9f-314b-4c26-fec0-7ba36e0a1566"
      },
      "source": [
        "mlp.score(X_test, y_test)"
      ],
      "execution_count": 5,
      "outputs": [
        {
          "output_type": "execute_result",
          "data": {
            "text/plain": [
              "0.792"
            ]
          },
          "metadata": {
            "tags": []
          },
          "execution_count": 5
        }
      ]
    },
    {
      "cell_type": "code",
      "metadata": {
        "id": "WVpZPRkzgMmM"
      },
      "source": [
        "from sklearn.feature_selection import SelectKBest, f_classif\n",
        "select = SelectKBest(f_classif, k=8)\n",
        "select.fit(X_train, y_train)\n",
        "X_train_selected = select.transform(X_train)\n",
        "X_test_selected = select.transform(X_test)"
      ],
      "execution_count": 6,
      "outputs": []
    },
    {
      "cell_type": "code",
      "metadata": {
        "colab": {
          "base_uri": "https://localhost:8080/"
        },
        "id": "XB29fHHGgnNe",
        "outputId": "334a0100-6472-4dc7-e39f-971e52eaffe3"
      },
      "source": [
        "mlp.fit(X_train_selected, y_train)\n",
        "mlp.score(X_train_selected, y_train)"
      ],
      "execution_count": 7,
      "outputs": [
        {
          "output_type": "execute_result",
          "data": {
            "text/plain": [
              "0.7987987987987988"
            ]
          },
          "metadata": {
            "tags": []
          },
          "execution_count": 7
        }
      ]
    },
    {
      "cell_type": "code",
      "metadata": {
        "colab": {
          "base_uri": "https://localhost:8080/"
        },
        "id": "uPZurJARg2vn",
        "outputId": "bfb5265f-f14b-4e5b-c855-7bbb9da6b3e5"
      },
      "source": [
        "mlp.score(X_test_selected, y_test)"
      ],
      "execution_count": 8,
      "outputs": [
        {
          "output_type": "execute_result",
          "data": {
            "text/plain": [
              "0.724"
            ]
          },
          "metadata": {
            "tags": []
          },
          "execution_count": 8
        }
      ]
    },
    {
      "cell_type": "code",
      "metadata": {
        "id": "dQPSYAV0hyLL"
      },
      "source": [
        "from sklearn.feature_selection import SelectKBest, mutual_info_classif\n",
        "select = SelectKBest(mutual_info_classif, k=8)\n",
        "select.fit(X_train, y_train)\n",
        "X_train_selected = select.transform(X_train)\n",
        "X_test_selected = select.transform(X_test)"
      ],
      "execution_count": 9,
      "outputs": []
    },
    {
      "cell_type": "code",
      "metadata": {
        "colab": {
          "base_uri": "https://localhost:8080/"
        },
        "id": "7H28_-4ih7cT",
        "outputId": "11c677b8-f487-4878-b3c9-4ed8a3dfc9c4"
      },
      "source": [
        "mlp.fit(X_train_selected, y_train)\n",
        "mlp.score(X_train_selected, y_train)"
      ],
      "execution_count": 10,
      "outputs": [
        {
          "output_type": "execute_result",
          "data": {
            "text/plain": [
              "0.8958958958958959"
            ]
          },
          "metadata": {
            "tags": []
          },
          "execution_count": 10
        }
      ]
    },
    {
      "cell_type": "code",
      "metadata": {
        "colab": {
          "base_uri": "https://localhost:8080/"
        },
        "id": "GS-B6taqh-Do",
        "outputId": "7065b962-e80f-4bb6-cc4d-f4dddde4efb5"
      },
      "source": [
        "mlp.score(X_test_selected, y_test)"
      ],
      "execution_count": 11,
      "outputs": [
        {
          "output_type": "execute_result",
          "data": {
            "text/plain": [
              "0.804"
            ]
          },
          "metadata": {
            "tags": []
          },
          "execution_count": 11
        }
      ]
    }
  ]
}