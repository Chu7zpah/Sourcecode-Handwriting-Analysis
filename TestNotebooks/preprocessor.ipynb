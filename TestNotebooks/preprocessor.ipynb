{
 "metadata": {
  "language_info": {
   "codemirror_mode": {
    "name": "ipython",
    "version": 3
   },
   "file_extension": ".py",
   "mimetype": "text/x-python",
   "name": "python",
   "nbconvert_exporter": "python",
   "pygments_lexer": "ipython3",
   "version": "3.7.7-final"
  },
  "orig_nbformat": 2,
  "kernelspec": {
   "name": "python3",
   "display_name": "Python 3.7.7 32-bit",
   "metadata": {
    "interpreter": {
     "hash": "e5ecb6e4ea5f0b23098b3119de9bcb040f15e4978cf0f681be624195d69057d4"
    }
   }
  }
 },
 "nbformat": 4,
 "nbformat_minor": 2,
 "cells": [
  {
   "cell_type": "code",
   "execution_count": 31,
   "metadata": {},
   "outputs": [
    {
     "output_type": "stream",
     "name": "stdout",
     "text": [
      "#include <stdio.h>\n\n\n\nint main(void)\n\n{\n\n    int t;\n\n    int a=0; // 2\n\n    /* */\n\n    if(a == 0) {    // 2\n\n        t= (float) a;  //1\n\n    }\n\n    else    //2\n\n    {\n\n        t = 0;  //3\n\n    }\n\n    /*\n\n    */\n    for (int i= 0 ; i < 5 ; i++)\n\n    {   //4\n\n        break;\n\n    }   //5\n\n    /*\n\n    */\n    while(1){\n\n        if(a == 0){\n\n            break;\n\n        }\n\n        /*\n\n    */\n        else{\n\n            float d;\n\n            d = (float)a;\n\n            printf(\"\");\n\n            break;\n\n        }\n\n    }\n\n    /*\n\n    */\n\n\n    if  (1)\n\n        return; // H\n\n    \n\n    return 0;   //T\n\n}\n"
     ]
    }
   ],
   "source": [
    "import re\n",
    "\n",
    "string_exist = re.compile(r'\"(.*?)\"')   # RE that checks is there any string(\" ~ \") in code\n",
    "comment_space = re.compile(r'//\\s\\S+.*')\n",
    "comment_NO_space = re.compile(r'//\\S+.*')\n",
    "comment_multiline_in_one = re.compile(r'/\\*\\s\\S+.*\\s\\*/')\n",
    "comment_multiline_start = re.compile(r'/\\*.*\\n')\n",
    "comment_multiline_end = re.compile(r'\\*/\\n')\n",
    "\n",
    "f = open('../Testcodes/test.c', 'r')\n",
    "raw_line_list = f.readlines()\n",
    "no_string_line_list = []\n",
    "cleaned_line_list = []\n",
    "\n",
    "for raw_line in raw_line_list:\n",
    "    # Exclude Strings\n",
    "    if string_exist.search(raw_line) is None:\n",
    "        no_string_line_list.append(raw_line)\n",
    "    elif string_exist.search(raw_line) is not None:\n",
    "        for string in string_exist.findall(raw_line):       \n",
    "            no_string_line_list.append(raw_line.replace(f'\"{string}\"', '\"\"')) \n",
    "\n",
    "flag = 0\n",
    "for no_string_line in no_string_line_list:\n",
    "    # Exclude One Line Comments\n",
    "    if comment_space.search(no_string_line) is not None:\n",
    "        for comment in comment_space.findall(no_string_line):\n",
    "            cleaned_line_list.append(no_string_line.replace(f'{comment}', f'// {comment[3]}'))\n",
    "    elif comment_NO_space.search(no_string_line) is not None:\n",
    "        for comment in comment_NO_space.findall(no_string_line):\n",
    "            cleaned_line_list.append(no_string_line.replace(f'{comment}', f'//{comment[2]}'))\n",
    "    elif comment_multiline_in_one.search(no_string_line) is not None:\n",
    "        for comment in comment_multiline_in_one.findall(no_string_line):\n",
    "            cleaned_line_list.append(no_string_line.replace(f'{comment}', '/* */'))\n",
    "    # Exclude Multi Line Comments\n",
    "    elif comment_multiline_start.search(no_string_line) is not None:\n",
    "        for comment in comment_multiline_start.findall(no_string_line):\n",
    "            cleaned_line_list.append(no_string_line.replace(f'{comment}', '/*\\n'))\n",
    "        flag = 1\n",
    "    elif flag:\n",
    "        if comment_multiline_end.search(no_string_line) is not None:\n",
    "            for comment in comment_multiline_end.findall(no_string_line):\n",
    "                cleaned_line_list.append('    */')\n",
    "            flag = 0\n",
    "        else:\n",
    "            continue\n",
    "    else:\n",
    "        cleaned_line_list.append(no_string_line)\n",
    "\n",
    "\n",
    "for line in cleaned_line_list:\n",
    "    print(line)"
   ]
  }
 ]
}