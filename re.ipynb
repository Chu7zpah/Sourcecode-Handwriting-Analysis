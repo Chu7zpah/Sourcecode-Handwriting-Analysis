{
 "metadata": {
  "language_info": {
   "codemirror_mode": {
    "name": "ipython",
    "version": 3
   },
   "file_extension": ".py",
   "mimetype": "text/x-python",
   "name": "python",
   "nbconvert_exporter": "python",
   "pygments_lexer": "ipython3",
   "version": "3.7.7-final"
  },
  "orig_nbformat": 2,
  "kernelspec": {
   "name": "python37764bite9fe62ee0c69496b9ffb9ee9247dac04",
   "display_name": "Python 3.7.7 64-bit"
  }
 },
 "nbformat": 4,
 "nbformat_minor": 2,
 "cells": [
  {
   "cell_type": "code",
   "execution_count": 1,
   "metadata": {},
   "outputs": [
    {
     "output_type": "stream",
     "name": "stdout",
     "text": [
      "<re.Match object; span=(0, 2), match='dz'>\n<re.Match object; span=(2, 4), match='){'>\n"
     ]
    }
   ],
   "source": [
    "import re\n",
    "p = re.compile('[a-z]+')\n",
    "d = p.match('dz')\n",
    "print(d)\n",
    "\n",
    "p2 = re.compile('\\)\\{')\n",
    "d2 = p2.search('dz){')\n",
    "print(d2)"
   ]
  },
  {
   "cell_type": "code",
   "execution_count": 2,
   "metadata": {},
   "outputs": [
    {
     "output_type": "stream",
     "name": "stdout",
     "text": [
      "Total: 7\nP1: 3\nP2 1\nP3 3\n"
     ]
    }
   ],
   "source": [
    "'''\n",
    "    ['{' Count하는 Module 작성]\n",
    "        If, 함수 선언의 경우 )로 구분이 가능하지만,\n",
    "        else, struct의 경우는 )가 존재하지 않기에 문자로 구분해주어야 함\n",
    "\n",
    "    이후에 추가해야 할 부분,,,\n",
    "        1) \"문자열\" 부분 제외시키기\n",
    "        2) 우선 이거로 진행하고, 이후에 (1) Function, Class, Struct (2) Condition (if, switch, else) (3) Iterative (for, while, do while,,,)\n",
    "            구분지어서 Check해볼지도 생각해보기\n",
    "'''\n",
    "\n",
    "f = open('./test.c', 'r')\n",
    "line_list = f.readlines()\n",
    "\n",
    "p1 = re.compile('[\\)|\\S]\\{') # 선언부에서 '{'를 열고, 공백이 존재하지 않는 경우\n",
    "p2 = re.compile('[\\)|\\S]\\s+\\{') # 선언부에서 '{'를 열고, 공백이 반드시 존재하는 경우\n",
    "p3 = re.compile('\\s*\\{') # 선언부에서 개행을 한 후 '{'를 여는 경우\n",
    "\n",
    "#print('[line_list]')\n",
    "#print(line_list)\n",
    "\n",
    "p1_count = 0\n",
    "p2_count = 0\n",
    "p3_count = 0\n",
    "for line in line_list:\n",
    "    if p1.search(line) is not None:\n",
    "        p1_count += 1\n",
    "    elif p2.search(line) is not None:\n",
    "        p2_count += 1\n",
    "    elif p3.search(line) is not None:\n",
    "        p3_count += 1\n",
    "\n",
    "total_count = p1_count + p2_count + p3_count\n",
    "print(\"Total:\", total_count)\n",
    "print(\"P1:\", p1_count)\n",
    "print(\"P2\", p2_count)\n",
    "print(\"P3\", p3_count)\n",
    "\n",
    "f.close()"
   ]
  },
  {
   "cell_type": "code",
   "execution_count": 3,
   "metadata": {},
   "outputs": [
    {
     "output_type": "stream",
     "name": "stdout",
     "text": [
      "Total: 9\nP1: 5\nP2 2\nP3 2\n"
     ]
    }
   ],
   "source": [
    "'''\n",
    "    [주석 Count하는 Module 작성]\n",
    "        //{Comment} vs // {Comment} vs /* {Comment} */\n",
    "\n",
    "    이후에 추가해야 할 부분,,,\n",
    "        \"문자열\" 부분 제외시키기\n",
    "        Nuke.c 에서 오검출이 나오는데, URL의 https:// 이게 주석이랑 헷갈리게 감지\n",
    "'''\n",
    "\n",
    "f = open('./test.c', 'r')\n",
    "line_list = f.readlines()\n",
    "\n",
    "p1 = re.compile('//\\S') # //{Comment}: NO Space\n",
    "p2 = re.compile('//\\s+\\S') # // {Comment}: Space\n",
    "p3 = re.compile('/\\*') # /* */ comment\n",
    "\n",
    "#print('[line_list]')\n",
    "#print(line_list)\n",
    "\n",
    "p1_count = 0\n",
    "p2_count = 0\n",
    "p3_count = 0\n",
    "for line in line_list:\n",
    "    if p1.search(line) is not None:\n",
    "        p1_count += 1\n",
    "    elif p2.search(line) is not None:\n",
    "        p2_count += 1\n",
    "    elif p3.search(line) is not None:\n",
    "        p3_count += 1\n",
    "\n",
    "total_count = p1_count + p2_count + p3_count\n",
    "print(\"Total:\", total_count)\n",
    "print(\"P1:\", p1_count)\n",
    "print(\"P2\", p2_count)\n",
    "print(\"P3\", p3_count)\n",
    "\n",
    "f.close()"
   ]
  },
  {
   "cell_type": "code",
   "execution_count": 8,
   "metadata": {},
   "outputs": [
    {
     "output_type": "stream",
     "name": "stdout",
     "text": [
      "Total: 5\nNO Space: 3\nWith Space 2\n"
     ]
    }
   ],
   "source": [
    "'''\n",
    "    [If, For, While, Switch + '(']\n",
    "        Space vs No Space\n",
    "    \n",
    "    Condition과 Iterative를 나눌 필요는 없다고 생각함\n",
    "    \n",
    "    함수의 경우는 Space를 사용하는 경우가 극히 드물다고 생각.\n",
    "        e.g. printf()처럼 쓰지 printf ()로 사용하진 않음\n",
    "\n",
    "    이후에 추가해야 할 부분,,,\n",
    "        \"문자열\" 부분 제외시키기\n",
    "'''\n",
    "\n",
    "f = open('./test.c', 'r')\n",
    "line_list = f.readlines()\n",
    "\n",
    "no_space = re.compile('if\\(|switch\\(|for\\(|while\\(') # if() or switch() or for() or while(): NO Space\n",
    "with_space = re.compile('if\\s+\\(|switch\\s+\\(|for\\s+\\(|while\\s+\\(') # if () or switch () or for () or while (): With Space\n",
    "\n",
    "no_count = 0\n",
    "with_count = 0\n",
    "\n",
    "for line in line_list:\n",
    "    if no_space.search(line) is not None:\n",
    "        no_count += 1\n",
    "    elif with_space.search(line) is not None:\n",
    "        with_count += 1\n",
    "\n",
    "total_count = no_count + with_count\n",
    "print(\"Total:\", total_count)\n",
    "print(\"NO Space:\", no_count)\n",
    "print(\"With Space\", with_count)\n",
    "\n",
    "f.close()"
   ]
  },
  {
   "cell_type": "code",
   "execution_count": 16,
   "metadata": {},
   "outputs": [
    {
     "output_type": "stream",
     "name": "stdout",
     "text": [
      "Total: 2\nNO Space: 1\nWith Space 1\n"
     ]
    }
   ],
   "source": [
    "'''\n",
    "    [Unary Operator]\n",
    "        Unary: ++,--,+,-,~,!,(type)가 존재,\n",
    "                위의 연산자 들 중 Space를 활용할만한 연산자는 (Type)뿐이라고 판단.\n",
    "        \n",
    "    이후에 추가해야 할 부분,,,\n",
    "        \"문자열\" 부분 제외시키기\n",
    "'''\n",
    "\n",
    "f = open('./test.c', 'r')\n",
    "line_list = f.readlines()\n",
    "\n",
    "type_list = ['char', 'short', 'int', 'long', 'long long', \n",
    "            'unsigned char', 'unsigned short', 'unsigned int', 'unsigned long',\n",
    "            'float', 'double', 'long double']\n",
    "\n",
    "no_count = 0\n",
    "with_count = 0\n",
    "\n",
    "for line in line_list:\n",
    "    for data_type in type_list:\n",
    "        no_space = re.compile(rf'\\({data_type}\\)\\S')\n",
    "        with_space = re.compile(rf'\\({data_type}\\)\\s+\\S')\n",
    "        \n",
    "        if no_space.search(line) is not None:\n",
    "            no_count += 1\n",
    "        elif with_space.search(line) is not None:\n",
    "            with_count += 1\n",
    "\n",
    "total_count = no_count + with_count\n",
    "print(\"Total:\", total_count)\n",
    "print(\"NO Space:\", no_count)\n",
    "print(\"With Space\", with_count)\n",
    "\n",
    "f.close()"
   ]
  },
  {
   "cell_type": "code",
   "execution_count": 24,
   "metadata": {},
   "outputs": [
    {
     "output_type": "stream",
     "name": "stdout",
     "text": [
      "#include <stdio.h>\n\n#include <stdio.h>\n\n#include <stdio.h>\n\n#include <stdio.h>\n\n\n\nint main(void)\n\nint main(void)\n\nint main(void)\n\nint main(void)\n\n{\n\n    int a = 0;\n\n    int a = 0;\n\n    int a = 0;\n\n    int a = 0;\n\n\n\n    return 0;\n\n    return 0;\n\n    return 0;\n\n    return 0;\n\n}\nTotal: 21\nNO + NO Space: 20\nNO + YES Space: 1\nYES + NO Space: 0\nYES + YES Space: 0\n"
     ]
    }
   ],
   "source": [
    "'''\n",
    "    [Binary Operator]\n",
    "        Binary: '+', '-', '*', '/', '%', (Arithmetic)\n",
    "                '=', '+=', '-=', '*=', '/=', '%=', \n",
    "                '&=', '^=', '|=', '<<=', '>>=', '>>>=',  (Assignment)\n",
    "                '==', '!=', '>', '<', '>=', '<=',   (Comparison)\n",
    "                '&&', '||', (Logical)\n",
    "                '>>', '<<', '>>>' (Shift)\n",
    "\n",
    "            주의해야 할 부분:   '-'는 부호를 의미하는 단항연산자와 구분이 필요\n",
    "                                    -> 부호의 경우 앞에 문자가 오지 않을 듯 (= -1 + 2 와 같은 형태,,,)\n",
    "                                        => \\w(알파벳이나 숫자)로 구분해 줄 수 있을 듯\n",
    "                                    -> 포인터 연산자 '->'에서도 구분이 필요\n",
    "                                        => 이것도 \\w로 거를 수 있을 듯\n",
    "\n",
    "                                '*'는 포인터 연산자와 구분이 필요\n",
    "                                    -> 아래의 경우는 구분할 필요 없을 듯\n",
    "                                        int* a; vs int * a vs int *a\n",
    "                                    -> 다만, *a와 같이 참조 연산은 구분할 필요 있음\n",
    "                                        => 이것도 \\w로 거를 수 있을 듯\n",
    "\n",
    "                                '/'는 주석기호 '//'와의 구분이 필요\n",
    "                                        => \\w로 거를 수 있을 듯\n",
    "                                \n",
    "                                '='의 구분 필요\n",
    "                                        => \\w로 거를 수 있을 듯\n",
    "            \n",
    "\n",
    "'''\n",
    "\n",
    "f = open('./optest.c', 'r')\n",
    "line_list = f.readlines()\n",
    "\n",
    "operator_list = [   '+', '-', '*', '/', '%',    # Arithmetic\n",
    "                    '=', '+=', '-=', '*=', '/=', '%=', \n",
    "                    '&=', '^=', '|=', '<<=', '>>=', '>>>=', # Assignment\n",
    "                    ',', '==', '!=', '>', '<', '>=', '<=',       # Comparison\n",
    "                    '&&', '||',    # Logical\n",
    "                    '>>', '<<', '>>>' ]     # Shift\n",
    "          \n",
    "no_operator_no_count = 0\n",
    "no_opeartor_yes_count = 0\n",
    "yes_operator_no_count = 0\n",
    "yes_operator_yes_count = 0\n",
    "\n",
    "for line in line_list:\n",
    "    for operator in operator_list:\n",
    "        no_operator_no = re.compile(rf'\\w{operator}\\w')\n",
    "        no_operator_yes = re.compile(rf'\\w{operator}\\s+\\w')\n",
    "        #yes_operator_no = re.compile(rf'\\w\\s+{operator}\\w')\n",
    "        #yes_operator_yes = re.compile(rf'\\w\\s+{operator}\\s+\\w')\n",
    "        \n",
    "        if no_operator_no.search(line) is not None:\n",
    "            no_operator_no_count += 1\n",
    "            print(line)\n",
    "        elif no_operator_yes.search(line) is not None:\n",
    "            no_opeartor_yes_count += 1\n",
    "        #elif yes_operator_no.search(line) is not None:\n",
    "        #    yes_operator_no_count += 1\n",
    "        #elif yes_operator_yes.search(line) is not None:\n",
    "        #    yes_operator_yes_count += 1\n",
    "\n",
    "total_count = no_operator_no_count + no_opeartor_yes_count + yes_operator_no_count + yes_operator_yes_count\n",
    "\n",
    "print(\"Total:\", total_count)\n",
    "print(\"NO + NO Space:\", no_operator_no_count)\n",
    "print(\"NO + YES Space:\", no_opeartor_yes_count)\n",
    "print(\"YES + NO Space:\", yes_operator_no_count)\n",
    "print(\"YES + YES Space:\", yes_operator_yes_count)\n",
    "\n",
    "f.close()"
   ]
  },
  {
   "source": [
    "This is for test"
   ],
   "cell_type": "markdown",
   "metadata": {}
  }
 ]
}